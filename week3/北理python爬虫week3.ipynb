{
 "cells": [
  {
   "cell_type": "markdown",
   "metadata": {},
   "source": [
    "课程地址:https://www.icourse163.org/course/BIT-1001870001  \n",
    "笔记内容结合课件整理。"
   ]
  },
  {
   "cell_type": "markdown",
   "metadata": {},
   "source": [
    "这里对北理爬虫课程第三周内容回顾,本周主要介绍了正则表达式"
   ]
  },
  {
   "cell_type": "markdown",
   "metadata": {},
   "source": [
    "### 1.正则表达式的概念"
   ]
  },
  {
   "cell_type": "markdown",
   "metadata": {},
   "source": [
    "正则表达式是用来简洁表达一组字符串的表达式  \n",
    "正则表达式是一种通用的字符串表达框架  \n",
    "进一步  \n",
    "正则表达式是一种针对字符串表达“简洁” 和“特征” 思想的工具  \n",
    "正则表达式可以用来判断某字符串的特征归属"
   ]
  },
  {
   "cell_type": "markdown",
   "metadata": {},
   "source": [
    "#### 正则表达式的常用操作符\n",
    "\n",
    "操作符| 说明| 实例\n",
    "--|--|--\n",
    ". |表示任何单个字符|\n",
    "[ ] |字符集，对单个字符给出取值范围 |[abc]表示a、 b、 c，[a‐z]表示a到z单个字符\n",
    "[^ ] |非字符集，对单个字符给出排除范围 |[^abc]表示非a或b或c的单个字符\n",
    "\\* |前一个字符0次或无限次扩展 |abc\\* 表示 ab、 abc、 abcc、 abccc等\n",
    "\\+ |前一个字符1次或无限次扩展 |abc+ 表示 abc、 abcc、 abccc等\n",
    "? |前一个字符0次或1次扩展| abc? 表示 ab、 abc\n",
    "&#124;| 左右表达式任意一个 |abc&#124;def 表示 abc、 def\n",
    "{m} |扩展前一个字符m次 |ab{2}c表示abbc\n",
    "{m,n} |扩展前一个字符m至n次（含n） |ab{1,2}c表示abc、 abbc\n",
    "^| 匹配字符串开头 |^abc表示abc且在一个字符串的开头\n",
    "\\$| 匹配字符串结尾 |abc$表示abc且在一个字符串的结尾\n",
    "( ) |分组标记，内部只能使用 &#124; 操作符 |(abc)表示abc，(abc&#124;def)表示abc、 def\n",
    "\\d |数字，等价于[0‐9]|\n",
    "\\w |单词字符，等价于[A‐Za‐z0‐9_]|"
   ]
  },
  {
   "cell_type": "markdown",
   "metadata": {},
   "source": [
    "来看几个具体例子\n",
    "\n",
    "正则表达式|对应字符串\n",
    "--|--\n",
    "P(Y&#124;YT&#124;YTH&#124;YTHO)?N| 'PN'、 'PYN'、 'PYTN'、 'PYTHN'、 'PYTHON'\n",
    "PYTHON+ |'PYTHON'、 'PYTHONN'、 'PYTHONNN' …\n",
    "PY[TH]ON |'PYTON'、 'PYHON'\n",
    "PY[^TH]?ON |'PYON'、 'PYaON'、 'PYbON'、 'PYcON'…\n",
    "PY{:3}N |'PN'、 'PYN'、 'PYYN'、 'PYYYN'"
   ]
  },
  {
   "cell_type": "markdown",
   "metadata": {},
   "source": [
    "再来看几个经典正则表达式的例子\n",
    "\n",
    "正则表达式|对应字符串\n",
    "--|--\n",
    "^[A‐Za‐z]+\\$|由26个字母组成的字符串\n",
    "^[A‐Za‐z0‐9]+\\$|由26个字母和数字组成的字符串\n",
    "^‐?\\d+\\$|整数形式的字符串\n",
    "^[0‐9]\\*[1‐9][0‐9]\\*\\$|正整数形式的字符串\n",
    "[1‐9]\\d{5}|中国境内邮政编码，6位\n",
    "[\\u4e00‐\\u9fa5]|匹配中文字符\n",
    "\\d{3}‐\\d{8}&#124;\\d{4}‐\\d{7}|国内电话号码，010‐68913536"
   ]
  },
  {
   "cell_type": "markdown",
   "metadata": {},
   "source": [
    "### 2.Re库的基本使用\n",
    "\n",
    "Re库是Python的标准库，主要用于字符串匹配"
   ]
  },
  {
   "cell_type": "markdown",
   "metadata": {},
   "source": [
    "#### Re库主要功能函数\n",
    "函数 |说明\n",
    "--|--\n",
    "re.search() |在一个字符串中搜索匹配正则表达式的第一个位置，返回match对象\n",
    "re.match()| 从一个字符串的开始位置起匹配正则表达式，返回match对象\n",
    "re.findall() |搜索字符串，以列表类型返回全部能匹配的子串\n",
    "re.split() |将一个字符串按照正则表达式匹配结果进行分割，返回列表类型\n",
    "re.finditer() |搜索字符串，返回一个匹配结果的迭代类型，每个迭代元素是match对象\n",
    "re.sub() |在一个字符串中替换所有匹配正则表达式的子串，返回替换后的字符串\n",
    "\n",
    "下面分别介绍下"
   ]
  },
  {
   "cell_type": "markdown",
   "metadata": {},
   "source": [
    "- 1.re.search(pattern, string, flags=0)  \n",
    "在一个字符串中搜索匹配正则表达式的第一个位置返回match对象  \n",
    "∙ pattern : 正则表达式的字符串或原生字符串表示  \n",
    "∙ string : 待匹配字符串  \n",
    "∙ flags : 正则表达式使用时的控制标记  \n",
    "这里再详细介绍下flags参数  \n",
    "\n",
    "常用标记 |说明\n",
    "--|--\n",
    "re.I |re.IGNORECASE 忽略正则表达式的大小写，[A‐Z]能够匹配小写字符\n",
    "re.M |re.MULTILINE 正则表达式中的^操作符能够将给定字符串的每行当作匹配开始\n",
    "re.S |re.DOTALL 正则表达式中的.操作符能够匹配所有字符，默认匹配除换行外的所有字符"
   ]
  },
  {
   "cell_type": "code",
   "execution_count": 3,
   "metadata": {},
   "outputs": [
    {
     "name": "stdout",
     "output_type": "stream",
     "text": [
      "100081\n"
     ]
    }
   ],
   "source": [
    "import re\n",
    "match=re.search(r'[1-9]\\d{5}','BIT 100081')\n",
    "\n",
    "if match:\n",
    "    print(match.group(0))"
   ]
  },
  {
   "cell_type": "markdown",
   "metadata": {},
   "source": [
    "- 2.re.match(pattern, string, flags=0)  \n",
    "从一个字符串的开始位置起匹配正则表达式返回match对象  \n",
    "∙ pattern : 正则表达式的字符串或原生字符串表示  \n",
    "∙ string : 待匹配字符串  \n",
    "∙ flags : 正则表达式使用时的控制标记  "
   ]
  },
  {
   "cell_type": "markdown",
   "metadata": {},
   "source": [
    "re.match和re.search最大的不同在于match从开始位置起匹配"
   ]
  },
  {
   "cell_type": "code",
   "execution_count": 5,
   "metadata": {},
   "outputs": [
    {
     "ename": "AttributeError",
     "evalue": "'NoneType' object has no attribute 'group'",
     "output_type": "error",
     "traceback": [
      "\u001b[1;31m---------------------------------------------------------------------------\u001b[0m",
      "\u001b[1;31mAttributeError\u001b[0m                            Traceback (most recent call last)",
      "\u001b[1;32m<ipython-input-5-fecc6e9f4c70>\u001b[0m in \u001b[0;36m<module>\u001b[1;34m()\u001b[0m\n\u001b[0;32m      5\u001b[0m     \u001b[0mprint\u001b[0m\u001b[1;33m(\u001b[0m\u001b[0mmatch\u001b[0m\u001b[1;33m.\u001b[0m\u001b[0mgroup\u001b[0m\u001b[1;33m(\u001b[0m\u001b[1;36m0\u001b[0m\u001b[1;33m)\u001b[0m\u001b[1;33m)\u001b[0m\u001b[1;33m\u001b[0m\u001b[0m\n\u001b[0;32m      6\u001b[0m \u001b[1;33m\u001b[0m\u001b[0m\n\u001b[1;32m----> 7\u001b[1;33m \u001b[0mmatch\u001b[0m\u001b[1;33m.\u001b[0m\u001b[0mgroup\u001b[0m\u001b[1;33m(\u001b[0m\u001b[1;36m0\u001b[0m\u001b[1;33m)\u001b[0m\u001b[1;33m\u001b[0m\u001b[0m\n\u001b[0m",
      "\u001b[1;31mAttributeError\u001b[0m: 'NoneType' object has no attribute 'group'"
     ]
    }
   ],
   "source": [
    "import re\n",
    "match=re.match(r'[1-9]\\d{5}','BIT 100081')\n",
    "\n",
    "if match:\n",
    "    print(match.group(0))\n",
    "    \n",
    "match.group(0)"
   ]
  },
  {
   "cell_type": "code",
   "execution_count": 6,
   "metadata": {},
   "outputs": [
    {
     "name": "stdout",
     "output_type": "stream",
     "text": [
      "100081\n"
     ]
    }
   ],
   "source": [
    "import re\n",
    "match=re.match(r'[1-9]\\d{5}','100081 BIT')\n",
    "\n",
    "if match:\n",
    "    print(match.group(0))"
   ]
  },
  {
   "cell_type": "markdown",
   "metadata": {},
   "source": [
    "- 3.re.findall(pattern, string, flags=0)  \n",
    "搜索字符串，以列表类型返回全部能匹配的子串  \n",
    "∙ pattern : 正则表达式的字符串或原生字符串表示  \n",
    "∙ string : 待匹配字符串  \n",
    "∙ flags : 正则表达式使用时的控制标记  "
   ]
  },
  {
   "cell_type": "code",
   "execution_count": 7,
   "metadata": {},
   "outputs": [
    {
     "data": {
      "text/plain": [
       "['100081', '100084']"
      ]
     },
     "execution_count": 7,
     "metadata": {},
     "output_type": "execute_result"
    }
   ],
   "source": [
    "import re\n",
    "ls=re.findall(r'[1-9]\\d{5}','BIT100081 TSU100084')\n",
    "\n",
    "ls"
   ]
  },
  {
   "cell_type": "markdown",
   "metadata": {},
   "source": [
    "- 4.re.split(pattern, string, maxsplit=0, flags=0)  \n",
    "将一个字符串按照正则表达式匹配结果进行分割返回列表类型  \n",
    "∙ pattern : 正则表达式的字符串或原生字符串表示  \n",
    "∙ string : 待匹配字符串  \n",
    "∙ maxsplit: 最大分割数，剩余部分作为最后一个元素输出  \n",
    "∙ flags : 正则表达式使用时的控制标记"
   ]
  },
  {
   "cell_type": "code",
   "execution_count": 9,
   "metadata": {},
   "outputs": [
    {
     "data": {
      "text/plain": [
       "['BIT', ' TSU', '']"
      ]
     },
     "execution_count": 9,
     "metadata": {},
     "output_type": "execute_result"
    }
   ],
   "source": [
    "import re\n",
    "re.split(r'[1-9]\\d{5}','BIT100081 TSU100084')"
   ]
  },
  {
   "cell_type": "code",
   "execution_count": 10,
   "metadata": {},
   "outputs": [
    {
     "data": {
      "text/plain": [
       "['BIT', ' TSU100084']"
      ]
     },
     "execution_count": 10,
     "metadata": {},
     "output_type": "execute_result"
    }
   ],
   "source": [
    "re.split(r'[1-9]\\d{5}','BIT100081 TSU100084',maxsplit=1)"
   ]
  },
  {
   "cell_type": "markdown",
   "metadata": {},
   "source": [
    "- 5.re.finditer(pattern, string, flags=0)  \n",
    "搜索字符串，返回一个匹配结果的迭代类型，每个迭代元素是match对象  \n",
    "∙ pattern : 正则表达式的字符串或原生字符串表示  \n",
    "∙ string : 待匹配字符串  \n",
    "∙ flags : 正则表达式使用时的控制标记"
   ]
  },
  {
   "cell_type": "code",
   "execution_count": 11,
   "metadata": {},
   "outputs": [
    {
     "name": "stdout",
     "output_type": "stream",
     "text": [
      "100081\n",
      "100084\n"
     ]
    }
   ],
   "source": [
    "import re\n",
    "for m in re.finditer(r'[1-9]\\d{5}','BIT100081 TSU100084'):\n",
    "    if m:\n",
    "        print(m.group(0))"
   ]
  },
  {
   "cell_type": "markdown",
   "metadata": {},
   "source": [
    "- 6.re.sub(pattern, repl, string, count=0, flags=0)  \n",
    "在一个字符串中替换所有匹配正则表达式的子串返回替换后的字符串  \n",
    "∙ pattern : 正则表达式的字符串或原生字符串表示  \n",
    "∙ repl : 替换匹配字符串的字符串  \n",
    "∙ string : 待匹配字符串  \n",
    "∙ count : 匹配的最大替换次数  \n",
    "∙ flags : 正则表达式使用时的控制标记  "
   ]
  },
  {
   "cell_type": "code",
   "execution_count": 12,
   "metadata": {},
   "outputs": [
    {
     "data": {
      "text/plain": [
       "'BIT:zipcode TSU:zipcode'"
      ]
     },
     "execution_count": 12,
     "metadata": {},
     "output_type": "execute_result"
    }
   ],
   "source": [
    "import re\n",
    "re.sub(r'[1-9]\\d{5}',':zipcode','BIT100081 TSU100084')"
   ]
  },
  {
   "cell_type": "markdown",
   "metadata": {},
   "source": [
    "#### Re库的另一种等价用法\n",
    "\n",
    "函数式用法：一次性操作  \n",
    "rst = re.search(r'[1‐9]\\d{5}', 'BIT 100081')\n",
    "\n",
    "面向对象用法：编译后的多次操作  \n",
    "pat = re.compile(r'[1‐9]\\d{5}')  \n",
    "rst = pat.search('BIT 100081')\n",
    "\n",
    "regex = re.compile(pattern, flags=0)  \n",
    "将正则表达式的字符串形式编译成正则表达式对象  \n",
    "∙ pattern : 正则表达式的字符串或原生字符串表示  \n",
    "∙ flags : 正则表达式使用时的控制标记"
   ]
  },
  {
   "cell_type": "markdown",
   "metadata": {},
   "source": [
    "#### Re库的Match对象\n",
    "\n",
    "Match对象是一次匹配的结果，包含匹配的很多信息"
   ]
  },
  {
   "cell_type": "code",
   "execution_count": 13,
   "metadata": {},
   "outputs": [
    {
     "name": "stdout",
     "output_type": "stream",
     "text": [
      "100081\n"
     ]
    },
    {
     "data": {
      "text/plain": [
       "_sre.SRE_Match"
      ]
     },
     "execution_count": 13,
     "metadata": {},
     "output_type": "execute_result"
    }
   ],
   "source": [
    "import re\n",
    "match=re.search(r'[1-9]\\d{5}','BIT 100081')\n",
    "\n",
    "if match:\n",
    "    print(match.group(0))\n",
    "    \n",
    "type(match)"
   ]
  },
  {
   "cell_type": "markdown",
   "metadata": {},
   "source": [
    "Match对象的属性\n",
    "\n",
    "属性| 说明\n",
    "--|--\n",
    ".string| 待匹配的文本\n",
    ".re| 匹配时使用的patter对象（正则表达式）\n",
    ".pos |正则表达式搜索文本的开始位置\n",
    ".endpos |正则表达式搜索文本的结束位置"
   ]
  },
  {
   "cell_type": "markdown",
   "metadata": {},
   "source": [
    "Match对象的方法\n",
    "\n",
    "方法| 说明\n",
    "--|--\n",
    ".group(0)| 获得匹配后的字符串\n",
    ".start()| 匹配字符串在原始字符串的开始位置\n",
    ".end() |匹配字符串在原始字符串的结束位置\n",
    ".span() |返回(.start(), .end())"
   ]
  },
  {
   "cell_type": "code",
   "execution_count": 14,
   "metadata": {
    "collapsed": true
   },
   "outputs": [],
   "source": [
    "import re\n",
    "m=re.search(r'[1-9]\\d{5}','BIT 100081')"
   ]
  },
  {
   "cell_type": "code",
   "execution_count": 15,
   "metadata": {},
   "outputs": [
    {
     "data": {
      "text/plain": [
       "'BIT 100081'"
      ]
     },
     "execution_count": 15,
     "metadata": {},
     "output_type": "execute_result"
    }
   ],
   "source": [
    "m.string"
   ]
  },
  {
   "cell_type": "code",
   "execution_count": 16,
   "metadata": {},
   "outputs": [
    {
     "data": {
      "text/plain": [
       "re.compile(r'[1-9]\\d{5}', re.UNICODE)"
      ]
     },
     "execution_count": 16,
     "metadata": {},
     "output_type": "execute_result"
    }
   ],
   "source": [
    "m.re"
   ]
  },
  {
   "cell_type": "code",
   "execution_count": 17,
   "metadata": {},
   "outputs": [
    {
     "data": {
      "text/plain": [
       "0"
      ]
     },
     "execution_count": 17,
     "metadata": {},
     "output_type": "execute_result"
    }
   ],
   "source": [
    "m.pos"
   ]
  },
  {
   "cell_type": "code",
   "execution_count": 18,
   "metadata": {},
   "outputs": [
    {
     "data": {
      "text/plain": [
       "10"
      ]
     },
     "execution_count": 18,
     "metadata": {},
     "output_type": "execute_result"
    }
   ],
   "source": [
    "m.endpos"
   ]
  },
  {
   "cell_type": "code",
   "execution_count": 19,
   "metadata": {},
   "outputs": [
    {
     "data": {
      "text/plain": [
       "'100081'"
      ]
     },
     "execution_count": 19,
     "metadata": {},
     "output_type": "execute_result"
    }
   ],
   "source": [
    "m.group(0)"
   ]
  },
  {
   "cell_type": "code",
   "execution_count": 21,
   "metadata": {},
   "outputs": [
    {
     "data": {
      "text/plain": [
       "4"
      ]
     },
     "execution_count": 21,
     "metadata": {},
     "output_type": "execute_result"
    }
   ],
   "source": [
    "m.start()"
   ]
  },
  {
   "cell_type": "code",
   "execution_count": 22,
   "metadata": {},
   "outputs": [
    {
     "data": {
      "text/plain": [
       "10"
      ]
     },
     "execution_count": 22,
     "metadata": {},
     "output_type": "execute_result"
    }
   ],
   "source": [
    "m.end()"
   ]
  },
  {
   "cell_type": "code",
   "execution_count": 23,
   "metadata": {},
   "outputs": [
    {
     "data": {
      "text/plain": [
       "(4, 10)"
      ]
     },
     "execution_count": 23,
     "metadata": {},
     "output_type": "execute_result"
    }
   ],
   "source": [
    "m.span()"
   ]
  },
  {
   "cell_type": "markdown",
   "metadata": {},
   "source": [
    "#### Re库的贪婪匹配和最小匹配\n",
    "\n",
    "实例\n",
    "```python\n",
    "match = re.search(r'PY.*N', 'PYANBNCNDN')\n",
    "match.group(0)\n",
    "```\n",
    "同时匹配长短不同的多项，返回哪一个呢？"
   ]
  },
  {
   "cell_type": "code",
   "execution_count": 24,
   "metadata": {},
   "outputs": [
    {
     "data": {
      "text/plain": [
       "'PYANBNCNDN'"
      ]
     },
     "execution_count": 24,
     "metadata": {},
     "output_type": "execute_result"
    }
   ],
   "source": [
    "import re\n",
    "match = re.search(r'PY.*N', 'PYANBNCNDN')\n",
    "match.group(0)"
   ]
  },
  {
   "cell_type": "markdown",
   "metadata": {},
   "source": [
    "Re库默认采用贪婪匹配，即输出匹配最长的子串。那么如何输出最短的子串呢？这里就要用到最小匹配操作符了。"
   ]
  },
  {
   "cell_type": "markdown",
   "metadata": {},
   "source": [
    "最小匹配操作符\n",
    "\n",
    "操作符| 说明\n",
    "--|--\n",
    "\\*?| 前一个字符0次或无限次扩展，最小匹配\n",
    "+?| 前一个字符1次或无限次扩展，最小匹配\n",
    "??| 前一个字符0次或1次扩展，最小匹配\n",
    "{m,n}?| 扩展前一个字符m至n次（含n），最小匹配\n",
    "\n",
    "只要长度输出可能不同的，都可以通过在操作符后增加?变成最小匹配"
   ]
  },
  {
   "cell_type": "code",
   "execution_count": 25,
   "metadata": {},
   "outputs": [
    {
     "data": {
      "text/plain": [
       "'PYAN'"
      ]
     },
     "execution_count": 25,
     "metadata": {},
     "output_type": "execute_result"
    }
   ],
   "source": [
    "import re\n",
    "\n",
    "match = re.search(r'PY.*?N', 'PYANBNCNDN')\n",
    "match.group(0)"
   ]
  },
  {
   "cell_type": "markdown",
   "metadata": {},
   "source": [
    "### 3.“淘宝商品比价定向爬虫”\n",
    "\n",
    "程序的结构设计  \n",
    "步骤1：提交商品搜索请求，循环获取页面  \n",
    "步骤2：对于每个页面，提取商品名称和价格信息  \n",
    "步骤3：将信息输出到屏幕上"
   ]
  },
  {
   "cell_type": "code",
   "execution_count": 73,
   "metadata": {
    "scrolled": false
   },
   "outputs": [
    {
     "name": "stdout",
     "output_type": "stream",
     "text": [
      "序号  \t价格      \t商品名称            \n",
      "   1\t49.00   \t背包男双肩包高中初中学生韩版书包男时尚潮流青年电脑旅游旅行包\n",
      "   2\t139.00  \t双肩包男时尚潮流个性电脑背包简约大学生高中书包休闲韩版旅行包\n",
      "   3\t109.00  \t卡帝乐鳄鱼商务双肩包男 中学生女电脑包 旅行男士背包大容量书包\n",
      "   4\t225.00  \t日本anello双肩包女妈咪防盗乐天学生背包书包离家出走包alleno男\n",
      "   5\t225.00  \t日本anello双肩包女牛津布防盗书包乐天旅行背包电脑包alleno男士\n",
      "   6\t203.00  \t日本anello双肩包女帆布防盗书包乐天旅行背包小电脑包alleno男潮\n",
      "   7\t129.00  \t七匹狼双肩包男 新款商务男士旅行背包女休闲大容量电脑学生书包\n",
      "   8\t79.00   \t书包小学生男1-3-4-6年级儿童减负护脊女6-12周岁初中学生双肩包\n",
      "   9\t139.00  \t瑞戈瑞士军刀旅行包旅游双肩包瑞士中学生书包女大容量电脑背包男\n",
      "  10\t29.80   \t2017新款双肩包女牛津布韩版潮百搭背包时尚休闲书包学生包2018\n",
      "  11\t59.00   \t背包男韩版时尚潮流双肩包休闲商务电脑旅行大容量高中大学生书包\n",
      "  12\t59.00   \t书包男中学生初中生高中生小学男生背包青少年校园双肩包时尚潮流\n",
      "  13\t55.00   \t双肩包女包包2018新款韩版潮时尚个性百搭2017牛津帆布小书包背包\n",
      "  14\t148.00  \t双肩包男士时尚潮流15.6寸电脑包大学生书包男运动休闲学院风背包\n",
      "  15\t65.00   \t2018新款牛津布双肩包女包包韩版潮百搭时尚女背包尼龙布休闲书包\n",
      "  16\t99.00   \t米熙休闲运动背包双肩包女书包中学生男时尚潮流大容量旅游旅行包\n",
      "  17\t59.00   \t牛津布双肩包女2018新款潮韩版时尚百搭书包旅行帆布小背包女包包\n",
      "  18\t139.00  \tpinkland儿童书包男小学生1-3-4-6年级女孩6-12周岁背包护脊书包\n",
      "  19\t99.00   \t双肩包男帆布背包电脑包休闲防水运动后背包男旅行包青年学生书包\n",
      "  20\t119.00  \t双肩背包男休闲多功能男士商务15.6寸电脑包 大容量 简约出差\n",
      "  21\t69.00   \t双肩包女2018新款包包韩版百搭时尚背包女双肩软皮旅行包书包女包\n",
      "  22\t249.00  \t小米 米兔儿童书包 6-12岁男女小学生潮双肩背包幼儿园可爱背包\n",
      "  23\t59.00   \t双肩包女2018新款韩版潮时尚百搭2017牛津布帆布女包包小背包书包\n",
      "  24\t69.90   \t2018新款包包牛津布双肩包女韩版潮百搭时尚背包ulzzang学生书包\n",
      "  25\t125.00  \t瑞士军刀瑞戈双肩包男士背包瑞士旅行包初中学生书包旅游包电脑包\n",
      "  26\t45.00   \t小学生书包龙人1-3-6年级女孩超轻防水减负双肩包6-12岁儿童背包\n",
      "  27\t299.00  \tBOPAI博牌电脑背包男户外旅行休闲双肩包商务防盗充电多功能男包\n",
      "  28\t69.00   \t背包男士双肩包韩版青年电脑旅行校园初中高中学生书包男时尚潮流\n",
      "  29\t119.00  \t韩国kk树书包小学生男1-3-4-6年级儿童书包女6-12周岁双肩包护脊\n",
      "  30\t29.00   \t韩版双肩包男时尚潮流书包男士电脑包旅行初中高中大学生休闲背包\n",
      "  31\t69.00   \t双肩包女2018新款潮韩版时尚百搭个性休闲包包pu软皮书包旅行背包\n",
      "  32\t179.00  \t双肩包男大容量17寸旅行包时尚潮流电脑包商务书包多功能防盗背包\n",
      "  33\t119.00  \t美洲野牛正品商务双肩包男中学生女电脑包旅行男士背包大容量书包\n",
      "  34\t148.00  \t裂狼双肩包男士时尚潮流背包男pu皮休闲男包旅行包青年学生书包潮\n",
      "  35\t118.00  \t瑞士军刀双肩包男士背包大容量休闲商务电脑包韩版高中书包旅行包\n",
      "  36\t25.90   \t书包小学生1-2-3-6年级男女生 护脊耐磨轻防水儿童双肩包6-12周岁\n",
      "  37\t118.00  \t布言新款双肩包男皮包时尚潮流背包韩版百搭旅行包英伦大学生书包\n",
      "  38\t59.00   \t双肩包男士旅游户外休闲书包时尚潮流大容量轻便旅行包登山背包男\n",
      "  39\t49.00   \t背包男时尚潮流高中书包大学生旅行男士双肩包休闲韩版校园旅游包\n",
      "  40\t169.00  \t英伦学院风男士双肩包休闲时尚潮流大容量背包大学生青年韩版书包\n",
      "  41\t499.00  \t国家地理背包女运动户外时尚双肩包男牛津布防水包潮学生情侣书包\n",
      "  42\t129.00  \t七匹狼男士背包双肩包男休闲时尚潮流大容量旅行电脑包大学生书包\n",
      "  43\t158.00  \t双肩包女牛津布2018新款百搭韩版大容量防水尼龙帆布包迷你小背包\n",
      "  44\t158.00  \t双肩包男商务防盗笔记本电脑包15.6寸书包男士大容量背包时尚潮流\n"
     ]
    }
   ],
   "source": [
    "import requests\n",
    "import re\n",
    "\n",
    "#获取页面信息\n",
    "def getHTMLText(url):\n",
    "    try:\n",
    "        r=requests.get(url,timeout=200)\n",
    "        r.raise_for_status()\n",
    "        r.encoding=r.apparent_encoding\n",
    "        return r.text\n",
    "    except:\n",
    "        return \"\"\n",
    "\n",
    "#解析页面\n",
    "def parsePage(ilt,html):\n",
    "    try:\n",
    "        tlt=re.findall(r'\\\"raw_title\\\"\\:\\\".*?\\\"',html)\n",
    "        plt=re.findall(r'\\\"view_price\\\"\\:\\\"[\\d\\.]*\\\"',html)\n",
    "        for i in range(len(plt)):\n",
    "            price=eval(plt[i].split(\":\")[1])\n",
    "            title=eval(tlt[i].split(\":\")[1])\n",
    "            ilt.append([price,title])\n",
    "    except:\n",
    "        print(\"\")\n",
    "\n",
    "#打印信息\n",
    "def printGoodsList(ilt):\n",
    "    tplt=\"{:4}\\t{:8}\\t{:16}\"\n",
    "    print(tplt.format(\"序号\",\"价格\",\"商品名称\"))\n",
    "    count=0\n",
    "    for g in ilt:\n",
    "        count=count+1\n",
    "        print(tplt.format(count,g[0],g[1]))\n",
    "\n",
    "def main():\n",
    "    goods=\"书包\"\n",
    "    depth=2\n",
    "    start_url=\"https://s.taobao.com/search?q=\"+goods\n",
    "    infoList=[]\n",
    "    for i in range(depth):\n",
    "        try:\n",
    "            url=start_url+\"&s=\"+str(i*44)\n",
    "            html=getHTMLText(url)\n",
    "            parsePage(infoList,html)\n",
    "        except:\n",
    "            continue\n",
    "    printGoodsList(infoList)\n",
    "    \n",
    "main()       "
   ]
  },
  {
   "cell_type": "markdown",
   "metadata": {},
   "source": [
    "这里再增加两个字段，店名，地区"
   ]
  },
  {
   "cell_type": "code",
   "execution_count": 102,
   "metadata": {},
   "outputs": [
    {
     "name": "stdout",
     "output_type": "stream",
     "text": [
      "序号  \t价格      \t店名                  \t地区                \t商品名称            \n",
      "   1\t219.00  \t卡拉羊维德邦尼专卖店          \t广东 惠州             \t卡拉羊小学生书包减负护脊男女孩2-3-5年级\n",
      "   2\t39.90   \t迪卡侬旗舰店              \t江苏 苏州             \t迪卡侬双肩包男女学生书包健身包运动新款校园20升休闲 KIPSTA\n",
      "   3\t139.00  \t施维茨十字广州专卖店          \t广东 广州             \t施维茨男士双肩包大容量背包女商务电脑旅行包休闲潮高中学生书包\n",
      "   4\t59.80   \twolfhorse箱包旗舰店      \t广东 广州             \t商务背包男士双肩包韩版潮流旅行包休闲女学生书包简约时尚电脑包\n",
      "   5\t79.00   \t妙心母婴专营店             \t上海                \t迪士尼小学生书包1-3-4年级男童女童6-12岁减负护脊儿童双肩背包\n",
      "   6\t179.00  \t莱夫箱包旗舰店             \t广东 广州             \t莱夫女士双肩包韩版潮2018新款帆布简约时尚个性牛津布迷你小背包\n",
      "   7\t249.00  \t莱夫箱包旗舰店             \t广东 广州             \t莱夫帆布小背包女韩版潮2018新款个性百搭双肩包女士旅行时尚胸包\n",
      "   8\t129.00  \tseptwolves七匹狼旗舰店    \t浙江 杭州             \t七匹狼双肩包男 韩版女休闲潮包 学生书包电脑包旅行包双肩背包男\n",
      "   9\t129.00  \tseptwolves七匹狼旗舰店    \t浙江 杭州             \t七匹狼商务双肩包男书包中学生女电脑包旅行包休闲男士背包大容量\n",
      "  10\t49.00   \tdr米其学生书包店           \t湖南 邵阳             \t书包小学生 1-2-3-6年级男女生减负双肩儿童书包男孩防水护脊背包\n",
      "  11\t559.00  \tfjallraven旗舰店       \t江苏 扬州             \tFjallraven/北极狐双肩包kanken书包运动包女户外包旅行背包23510\n",
      "  12\t158.00  \t名鞋城                 \t上海                \t专柜正品JanSport杰斯伯经典双肩背包男女同款学生书包T501纯色\n",
      "  13\t119.00  \t巴朗旗舰店               \t广东 广州             \t巴朗新款商务双肩包休闲时尚潮流大学生书包15.6寸电脑包男士背包\n",
      "  14\t69.00   \taspensport旗舰店       \t福建 泉州             \t双肩包男背包男士旅行包电脑休闲旅游女时尚潮流高中初中学生书包\n",
      "  15\t139.00  \t赫登尔旗舰店              \t广东 广州             \t赫登尔双肩包男士潮流背包男韩版旅行包时尚休闲学生书包电脑包潮\n",
      "  16\t208.00  \t豪迈足来足往              \t香港 九龙             \tanello双肩包女香港代购防盗旅行包书包大容量防水背包离家出走包\n",
      "  17\t208.00  \tfengcai678          \t香港 九龙             \t【香港直邮】anello双肩包男女离家出走包学生书包旅行包休闲背包\n",
      "  18\t79.00   \t石头村的小伙              \t广东 广州             \t书包女韩版原宿ulzzang 高中学生2018新款初中生校园甜甜圈双肩包\n",
      "  19\t149.00  \t唐酷旗舰店               \t广东 广州             \t双肩包男士时尚潮流背包韩版个性书包男大学生运动休闲电脑旅行包\n",
      "  20\t29.90   \ta455157529          \t湖南 邵阳             \t书包小学生1-2-3-6年级男女生 护脊耐磨轻防水儿童双肩包6-12周岁\n",
      "  21\t149.00  \t小米官方旗舰店             \t北京                \t小米双肩包简约休闲多功能书包男女笔记本电脑包时尚潮流旅行背包\n",
      "  22\t69.00   \t仕墨梵旗舰店              \t浙江 金华             \t背包男士双肩包时尚潮流初中高中学生书包大学生女商务旅行电脑包\n",
      "  23\t59.00   \t迅步母婴专营店             \t湖北 武汉             \t迪士尼书包小学生男女1-3-4-6年级米奇减负背包儿童书包8-10-12岁\n",
      "  24\t69.00   \t爱潮鸟旗舰店              \t浙江 杭州             \t双肩包女包包2018新款韩版潮个性百搭时尚迷你小2017书包女士背包\n",
      "  25\t208.00  \t时尚爱购潮店              \t上海                \tanello双肩包女日本乐天背包ins超火书包妈妈包 alleno离家出走包\n",
      "  26\t139.00  \t瑞戈日进专卖店             \t广东 广州             \t瑞士军刀双肩包男瑞士电脑旅行背包女大容量高中大学初中学生书包\n",
      "  27\t59.00   \t沃曼威斯旗舰店             \t广东 广州             \t男背包旅游休闲商务电脑韩版时尚潮流大高中学生书包旅行双肩包男\n",
      "  28\t189.00  \t尼格尔旗舰店              \t广东 广州             \t商务双肩包男大容量青年短途出差旅行包17寸电脑包多功能防盗背包\n",
      "  29\t138.00  \t鑫运箱包专营店             \t广东 广州             \t瑞戈瑞士军刀双肩包瑞士中学生书包女休闲男士旅行大容量电脑背包\n",
      "  30\t138.00  \tzoger旗舰店            \t广东 广州             \t双肩包女背包2018新款韩版潮牛津布帆布百搭防盗女士旅行休闲包包\n",
      "  31\t149.00  \t凡语者旗舰店              \t湖南 长沙             \t双肩包男个性休闲17寸男士背包电脑旅行包学生书包男运动时尚潮流\n",
      "  32\t69.00   \t依璐梦妮旗舰店             \t广东 广州             \t2018新款双肩包女牛津布韩版潮百搭背包时尚休闲书包女包包旅行包\n",
      "  33\t139.00  \t七匹狼楚雅专卖店            \t上海                \t七匹狼背包男商务双肩包男士旅行休闲时尚潮流电脑青年书包大容量\n",
      "  34\t169.00  \thautton旗舰店          \t广东 广州             \t背包男士双肩包休闲旅行时尚潮流青年简约韩版高中学生书包大容量\n",
      "  35\t68.00   \t控强旗舰店               \t广东 广州             \t背包男双肩包大容量休闲电脑包韩版高中学生书包男时尚潮流旅行包\n",
      "  36\t129.00  \tchuli初丽旗舰店          \t广东 广州             \t男士双肩包男韩版时尚背包男大学生书包潮流旅行包电脑包男包皮包\n",
      "  37\t139.00  \t希卡旗舰店               \t上海                \t双肩包男时尚潮流个性电脑背包简约大学生高中书包休闲韩版旅行包\n",
      "  38\t109.00  \t卡帝乐鳄鱼佰赞诚专卖店         \t浙江 温州             \t卡帝乐鳄鱼商务双肩包男 中学生女电脑包 旅行男士背包大容量书包\n",
      "  39\t225.00  \t童花头布布               \t上海                \t日本anello双肩包女妈咪防盗乐天学生背包书包离家出走包alleno男\n",
      "  40\t225.00  \t洺涛服饰                \t上海                \t日本anello双肩包女牛津布防盗书包乐天旅行背包电脑包alleno男士\n",
      "  41\t203.00  \t潮鞋商城                \t上海                \t日本anello双肩包女帆布防盗书包乐天旅行背包小电脑包alleno男潮\n",
      "  42\t129.00  \t七匹狼开地专卖店            \t上海                \t七匹狼双肩包男 新款商务男士旅行背包女休闲大容量电脑学生书包\n",
      "  43\t79.00   \t顺时母婴专营店             \t广东 广州             \t书包小学生男1-3-4-6年级儿童减负护脊女6-12周岁初中学生双肩包\n",
      "  44\t139.00  \t瑞戈箱包旗舰店             \t广东 广州             \t瑞戈瑞士军刀旅行包旅游双肩包瑞士中学生书包女大容量电脑背包男\n",
      "  45\t29.80   \t爱洛唯旗舰店              \t北京                \t2017新款双肩包女牛津布韩版潮百搭背包时尚休闲书包学生包2018\n",
      "  46\t59.00   \t骆佰斯旗舰店              \t广东 广州             \t背包男韩版时尚潮流双肩包休闲商务电脑旅行大容量高中大学生书包\n",
      "  47\t59.00   \t风动旗舰店               \t广东 广州             \t书包男中学生初中生高中生小学男生背包青少年校园双肩包时尚潮流\n",
      "  48\t55.00   \t爱潮鸟旗舰店              \t浙江 杭州             \t双肩包女包包2018新款韩版潮时尚个性百搭2017牛津帆布小书包背包\n",
      "  49\t148.00  \t梵瑞恩箱包旗舰店            \t广东 广州             \t双肩包男士时尚潮流15.6寸电脑包大学生书包男运动休闲学院风背包\n",
      "  50\t65.00   \t依璐梦妮旗舰店             \t广东 广州             \t2018新款牛津布双肩包女包包韩版潮百搭时尚女背包尼龙布休闲书包\n",
      "  51\t99.00   \t米熙箱包旗舰店             \t广东 广州             \t米熙休闲运动背包双肩包女书包中学生男时尚潮流大容量旅游旅行包\n",
      "  52\t59.00   \t粹鸟旗舰店               \t浙江 台州             \t牛津布双肩包女2018新款潮韩版时尚百搭书包旅行帆布小背包女包包\n",
      "  53\t139.00  \tpinkland旗舰店         \t广东 广州             \tpinkland儿童书包男小学生1-3-4-6年级女孩6-12周岁背包护脊书包\n",
      "  54\t99.00   \t摩尔卡登旗舰店             \t广东 广州             \t双肩包男帆布背包电脑包休闲防水运动后背包男旅行包青年学生书包\n",
      "  55\t119.00  \tdoorqu旗舰店           \t上海                \t双肩背包男休闲多功能男士商务15.6寸电脑包 大容量 简约出差\n",
      "  56\t69.00   \t七扣旗舰店               \t河北 保定             \t双肩包女2018新款包包韩版百搭时尚背包女双肩软皮旅行包书包女包\n",
      "  57\t249.00  \t小米官方旗舰店             \t北京                \t小米 米兔儿童书包 6-12岁男女小学生潮双肩背包幼儿园可爱背包\n",
      "  58\t59.00   \t爱潮鸟旗舰店              \t浙江 杭州             \t双肩包女2018新款韩版潮时尚百搭2017牛津布帆布女包包小背包书包\n",
      "  59\t69.90   \t大脸兔旗舰店              \t广东 广州             \t2018新款包包牛津布双肩包女韩版潮百搭时尚背包ulzzang学生书包\n",
      "  60\t125.00  \t瑞戈灵渊专卖店             \t广东 广州             \t瑞士军刀瑞戈双肩包男士背包瑞士旅行包初中学生书包旅游包电脑包\n",
      "  61\t45.00   \twxkt888             \t湖南 长沙             \t小学生书包龙人1-3-6年级女孩超轻防水减负双肩包6-12岁儿童背包\n",
      "  62\t299.00  \t博牌旗舰店               \t广东 广州             \tBOPAI博牌电脑背包男户外旅行休闲双肩包商务防盗充电多功能男包\n",
      "  63\t69.00   \t木村耀司旗舰店             \t上海                \t背包男士双肩包韩版青年电脑旅行校园初中高中学生书包男时尚潮流\n",
      "  64\t119.00  \tkocotree旗舰店         \t浙江 湖州             \t韩国kk树书包小学生男1-3-4-6年级儿童书包女6-12周岁双肩包护脊\n",
      "  65\t29.00   \t朗斐旗舰店               \t河北 石家庄            \t韩版双肩包男时尚潮流书包男士电脑包旅行初中高中大学生休闲背包\n",
      "  66\t69.00   \t韩雅伊人旗舰店             \t浙江 台州             \t双肩包女2018新款潮韩版时尚百搭个性休闲包包pu软皮书包旅行背包\n",
      "  67\t179.00  \treeyee旗舰店           \t广东 广州             \t双肩包男大容量17寸旅行包时尚潮流电脑包商务书包多功能防盗背包\n",
      "  68\t119.00  \t美洲野牛旗舰店             \t广东 广州             \t美洲野牛正品商务双肩包男中学生女电脑包旅行男士背包大容量书包\n",
      "  69\t148.00  \t裂狼旗舰店               \t广东 广州             \t裂狼双肩包男士时尚潮流背包男pu皮休闲男包旅行包青年学生书包潮\n",
      "  70\t118.00  \t施维茨十字裳酷专卖店          \t上海                \t瑞士军刀双肩包男士背包大容量休闲商务电脑包韩版高中书包旅行包\n",
      "  71\t25.90   \tzhou2613223         \t湖南 邵阳             \t书包小学生1-2-3-6年级男女生 护脊耐磨轻防水儿童双肩包6-12周岁\n",
      "  72\t118.00  \t布言旗舰店               \t北京                \t布言新款双肩包男皮包时尚潮流背包韩版百搭旅行包英伦大学生书包\n",
      "  73\t59.00   \t沃曼威斯丰傲专卖店           \t广东 广州             \t双肩包男士旅游户外休闲书包时尚潮流大容量轻便旅行包登山背包男\n",
      "  74\t49.00   \tupza旗舰店             \t广东 广州             \t背包男时尚潮流高中书包大学生旅行男士双肩包休闲韩版校园旅游包\n",
      "  75\t169.00  \tbodachel旗舰店         \t广东 深圳             \t英伦学院风男士双肩包休闲时尚潮流大容量背包大学生青年韩版书包\n",
      "  76\t499.00  \tnationalgeographic旗舰店\t广东 广州             \t国家地理背包女运动户外时尚双肩包男牛津布防水包潮学生情侣书包\n",
      "  77\t129.00  \tseptwolves诚信达专卖店    \t上海                \t七匹狼男士背包双肩包男休闲时尚潮流大容量旅行电脑包大学生书包\n",
      "  78\t158.00  \tyoya旗舰店             \t广东 广州             \t双肩包女牛津布2018新款百搭韩版大容量防水尼龙帆布包迷你小背包\n",
      "  79\t158.00  \t马可莱登旗舰店             \t广东 广州             \t双肩包男商务防盗笔记本电脑包15.6寸书包男士大容量背包时尚潮流\n",
      "  80\t59.00   \t文博士旗舰店              \t湖南 邵阳             \t小学生书包男童1-3-4年级双肩男孩6-12周岁轻便防水男生儿童书包\n"
     ]
    }
   ],
   "source": [
    "import requests\n",
    "import re\n",
    "\n",
    "#获取页面信息\n",
    "def getHTMLText(url):\n",
    "    try:\n",
    "        r=requests.get(url,timeout=200)\n",
    "        r.raise_for_status()\n",
    "        r.encoding=r.apparent_encoding\n",
    "        return r.text\n",
    "    except:\n",
    "        return \"\"\n",
    "\n",
    "#解析页面\n",
    "def parsePage(ilt,html):\n",
    "    try:\n",
    "        tlt=re.findall(r'\\\"raw_title\\\"\\:\\\".*?\\\"',html)\n",
    "        plt=re.findall(r'\\\"view_price\\\"\\:\\\"[\\d\\.]*\\\"',html)\n",
    "        nlt=re.findall(r'\"nick\":\".*?\"',html)\n",
    "        llt=re.findall(r'\"item_loc\":\".*?\"',html)\n",
    "        for i in range(len(plt)):\n",
    "            price=eval(plt[i].split(\":\")[1])\n",
    "            title=eval(tlt[i].split(\":\")[1])\n",
    "            name=eval(nlt[i].split(\":\")[1]).strip()\n",
    "            loc=eval(llt[i].split(\":\")[1]).strip()\n",
    "            ilt.append([price,title,name,loc])\n",
    "    except:\n",
    "        print(\"\")\n",
    "\n",
    "#打印信息\n",
    "def printGoodsList(ilt):\n",
    "    tplt=\"{:4}\\t{:8}\\t{:20}\\t{:18}\\t{:16}\"\n",
    "    print(tplt.format(\"序号\",\"价格\",\"店名\",\"地区\",\"商品名称\"))\n",
    "    count=0\n",
    "    for g in ilt:\n",
    "        count=count+1\n",
    "        print(tplt.format(count,g[0],g[2],g[3],g[1]))\n",
    "\n",
    "def main():\n",
    "    goods=\"书包\"\n",
    "    depth=2\n",
    "    start_url=\"https://s.taobao.com/search?q=\"+goods\n",
    "    infoList=[]\n",
    "    for i in range(depth):\n",
    "        try:\n",
    "            url=start_url+\"&s=\"+str(i*44)\n",
    "            html=getHTMLText(url)\n",
    "            parsePage(infoList,html)\n",
    "        except:\n",
    "            continue\n",
    "    printGoodsList(infoList)\n",
    "    \n",
    "main()       "
   ]
  },
  {
   "cell_type": "markdown",
   "metadata": {},
   "source": [
    "### 4.股票数据定向爬虫\n",
    "\n",
    "程序的结构设计  \n",
    "步骤1：从东方财富网获取股票列表  \n",
    "步骤2：根据股票列表逐个到百度股票获取个股信息  \n",
    "步骤3：将结果存储到文件"
   ]
  },
  {
   "cell_type": "code",
   "execution_count": 120,
   "metadata": {
    "collapsed": true
   },
   "outputs": [],
   "source": [
    "import requests\n",
    "from bs4 import BeautifulSoup\n",
    "import traceback\n",
    "import re\n",
    "\n",
    "#获取页面信息\n",
    "def getHTMLText(url):\n",
    "    try:\n",
    "        r=requests.get(url,timeout=200)\n",
    "        r.raise_for_status()\n",
    "        r.encoding=r.apparent_encoding\n",
    "        return r.text\n",
    "    except:\n",
    "        return \"\"\n",
    "\n",
    "#获取股票列表\n",
    "def getStockList(lst,stockURL):\n",
    "    html=getHTMLText(stockURL)\n",
    "    soup=BeautifulSoup(html,'html.parser')\n",
    "    a=soup.find_all('a')\n",
    "    for i in a:\n",
    "        try:\n",
    "            href=i.attrs['href']\n",
    "            lst.append(re.findall(r\"[s][hz]\\d{6}\",href)[0])\n",
    "        except:\n",
    "            continue\n",
    "\n",
    "#获取股票信息\n",
    "def getStockInfo(lst,stockURL,fpath):\n",
    "    print(lst)\n",
    "    for stock in lst:\n",
    "        url=stockURL+stock+\".html\"\n",
    "        html=getHTMLText(url)\n",
    "        try:\n",
    "            if html==\"\":\n",
    "                continue\n",
    "            infoDict={}\n",
    "            soup=BeautifulSoup(html,'html.parser')\n",
    "            stockInfo=soup.find(\"div\",attrs={'class':'stock-bets'})\n",
    "            \n",
    "            name=stockInfo.find_all(attrs={'class':'bets-name'})[0]\n",
    "            infoDict.update({'股票名称':name.text.split()[0]})\n",
    "            \n",
    "            keyList=stockInfo.find_all('dt')\n",
    "            valueList=stockInfo.find_all('dd')\n",
    "            for i in range(len(keyList)):\n",
    "                key=keyList[i].text\n",
    "                val=valueList[i].text\n",
    "                infoDict[key]=val\n",
    "            \n",
    "            with open(fpath,'a',encoding='utf-8') as f:\n",
    "                f.write(str(infoDict)+'\\n')\n",
    "        \n",
    "        except:\n",
    "            traceback.print_exc()\n",
    "            continue\n",
    "\n",
    "def main():\n",
    "    stock_list_url = 'http://quote.eastmoney.com/stocklist.html'\n",
    "    stock_info_url = 'https://gupiao.baidu.com/stock/'\n",
    "    output_file = 'D:/BaiduStockInfo.txt'\n",
    "    slist=[]\n",
    "    getStockList(slist,stock_list_url)\n",
    "    getStockInfo(slist,stock_info_url,output_file)\n"
   ]
  },
  {
   "cell_type": "markdown",
   "metadata": {},
   "source": [
    "再对代码做些优化处理"
   ]
  },
  {
   "cell_type": "code",
   "execution_count": null,
   "metadata": {},
   "outputs": [
    {
     "name": "stdout",
     "output_type": "stream",
     "text": [
      "当前进度: 1.95%"
     ]
    }
   ],
   "source": [
    "import requests\n",
    "from bs4 import BeautifulSoup\n",
    "import traceback\n",
    "import re\n",
    " \n",
    "def getHTMLText(url, code=\"utf-8\"):\n",
    "    try:\n",
    "        r = requests.get(url)\n",
    "        r.raise_for_status()\n",
    "        r.encoding = code\n",
    "        return r.text\n",
    "    except:\n",
    "        return \"\"\n",
    "\n",
    "def getStockList(lst, stockURL):\n",
    "    html = getHTMLText(stockURL, \"GB2312\")\n",
    "    soup = BeautifulSoup(html, 'html.parser') \n",
    "    a = soup.find_all('a')\n",
    "    for i in a:\n",
    "        try:\n",
    "            href = i.attrs['href']\n",
    "            lst.append(re.findall(r\"[s][hz]\\d{6}\", href)[0])\n",
    "        except:\n",
    "            continue\n",
    "\n",
    "def getStockInfo(lst, stockURL, fpath):\n",
    "    count = 0\n",
    "    for stock in lst:\n",
    "        url = stockURL + stock + \".html\"\n",
    "        html = getHTMLText(url)\n",
    "        try:\n",
    "            if html==\"\":\n",
    "                continue\n",
    "            infoDict = {}\n",
    "            soup = BeautifulSoup(html, 'html.parser')\n",
    "            stockInfo = soup.find('div',attrs={'class':'stock-bets'})\n",
    " \n",
    "            name = stockInfo.find_all(attrs={'class':'bets-name'})[0]\n",
    "            infoDict.update({'股票名称': name.text.split()[0]})\n",
    "             \n",
    "            keyList = stockInfo.find_all('dt')\n",
    "            valueList = stockInfo.find_all('dd')\n",
    "            for i in range(len(keyList)):\n",
    "                key = keyList[i].text\n",
    "                val = valueList[i].text\n",
    "                infoDict[key] = val\n",
    "             \n",
    "            with open(fpath, 'a', encoding='utf-8') as f:\n",
    "                f.write( str(infoDict) + '\\n' )\n",
    "                count = count + 1\n",
    "                print(\"\\r当前进度: {:.2f}%\".format(count*100/len(lst)),end=\"\")\n",
    "        except:\n",
    "            count = count + 1\n",
    "            print(\"\\r当前进度: {:.2f}%\".format(count*100/len(lst)),end=\"\")\n",
    "            continue\n",
    "\n",
    "def main():\n",
    "    stock_list_url = 'http://quote.eastmoney.com/stocklist.html'\n",
    "    stock_info_url = 'https://gupiao.baidu.com/stock/'\n",
    "    output_file = 'D:/BaiduStockInfo.txt'\n",
    "    slist=[]\n",
    "    getStockList(slist, stock_list_url)\n",
    "    getStockInfo(slist, stock_info_url, output_file)\n",
    "\n",
    "main()"
   ]
  }
 ],
 "metadata": {
  "kernelspec": {
   "display_name": "Python 3",
   "language": "python",
   "name": "python3"
  },
  "language_info": {
   "codemirror_mode": {
    "name": "ipython",
    "version": 3
   },
   "file_extension": ".py",
   "mimetype": "text/x-python",
   "name": "python",
   "nbconvert_exporter": "python",
   "pygments_lexer": "ipython3",
   "version": "3.6.3"
  }
 },
 "nbformat": 4,
 "nbformat_minor": 2
}
